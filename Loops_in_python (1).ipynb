{
  "cells": [
    {
      "cell_type": "code",
      "source": [
        "a = 25\n",
        "print(a)"
      ],
      "metadata": {
        "id": "bXcGOzv3JAwt"
      },
      "id": "bXcGOzv3JAwt",
      "execution_count": null,
      "outputs": []
    },
    {
      "cell_type": "code",
      "source": [
        "List1 = [25, 52, 57]\n",
        "print(List1[0])\n",
        "print(List1[1])\n",
        "print(List1(2))"
      ],
      "metadata": {
        "id": "uCe9ZnWxJFb0"
      },
      "id": "uCe9ZnWxJFb0",
      "execution_count": null,
      "outputs": []
    },
    {
      "cell_type": "code",
      "source": [
        "# Basic concept of for loop\n",
        "# for iterator in range(end):\n",
        "#   print(iterator)\n",
        "\n",
        "# for iterator in range(end - 1):\n",
        "#   print(iterator)\n",
        "\n",
        "# for iterator in range(start, end - 1):\n",
        "#   print(iterator)\n",
        "\n",
        "\n",
        "# for iterator in range(start, end - 1, step):\n",
        "#   print(iterator)"
      ],
      "metadata": {
        "id": "Tq0zdyXwKzO0"
      },
      "id": "Tq0zdyXwKzO0",
      "execution_count": null,
      "outputs": []
    },
    {
      "cell_type": "markdown",
      "id": "96ed3b3b",
      "metadata": {
        "id": "96ed3b3b"
      },
      "source": [
        "# Looping\n",
        "\n",
        "- Looping is a concept to repeat a block of code many times.\n",
        "- It is basically iterations (repeating a task).\n",
        "- In general there are 2 commonly used loops in python\n",
        "    - for loops\n",
        "    - while loops"
      ]
    },
    {
      "cell_type": "markdown",
      "id": "4df74916",
      "metadata": {
        "id": "4df74916"
      },
      "source": [
        "## For loop\n",
        "\n",
        "- Known as definite loop.\n",
        "- Basically means finite number of operations"
      ]
    },
    {
      "cell_type": "code",
      "source": [
        "numb = [25, \"Sandeep\", 56]\n",
        "for i in numb:\n",
        "  print(i)"
      ],
      "metadata": {
        "id": "bF6m8yGriktG"
      },
      "id": "bF6m8yGriktG",
      "execution_count": null,
      "outputs": []
    },
    {
      "cell_type": "code",
      "execution_count": null,
      "id": "e8899b5b",
      "metadata": {
        "id": "e8899b5b"
      },
      "outputs": [],
      "source": [
        "big_cat = \"White tiger\"\n",
        "\n",
        "for i in big_cat: # i is iterator and we can change this i to anything\n",
        "    print(i)"
      ]
    },
    {
      "cell_type": "code",
      "execution_count": null,
      "id": "2d78c9cf",
      "metadata": {
        "colab": {
          "base_uri": "https://localhost:8080/"
        },
        "id": "2d78c9cf",
        "outputId": "c1e97f42-312f-469d-d54e-3bc7d76c4f17"
      },
      "outputs": [
        {
          "output_type": "stream",
          "name": "stdout",
          "text": [
            "Help on built-in function print in module builtins:\n",
            "\n",
            "print(...)\n",
            "    print(value, ..., sep=' ', end='\\n', file=sys.stdout, flush=False)\n",
            "    \n",
            "    Prints the values to a stream, or to sys.stdout by default.\n",
            "    Optional keyword arguments:\n",
            "    file:  a file-like object (stream); defaults to the current sys.stdout.\n",
            "    sep:   string inserted between values, default a space.\n",
            "    end:   string appended after the last value, default a newline.\n",
            "    flush: whether to forcibly flush the stream.\n",
            "\n"
          ]
        }
      ],
      "source": [
        "help(print)"
      ]
    },
    {
      "cell_type": "code",
      "execution_count": null,
      "id": "3f7418af",
      "metadata": {
        "id": "3f7418af"
      },
      "outputs": [],
      "source": [
        "big_cat = \"White Tiger\"\n",
        "for i in big_cat:\n",
        "    print(i, end = \"\")"
      ]
    },
    {
      "cell_type": "code",
      "execution_count": null,
      "id": "748dfe3c",
      "metadata": {
        "id": "748dfe3c"
      },
      "outputs": [],
      "source": [
        "big_cat = \"White Tiger\"\n",
        "\n",
        "for string in big_cat: # i is iterator and we can change this i to anything\n",
        "    print(string, end = \" \")"
      ]
    },
    {
      "cell_type": "code",
      "source": [
        "n=\"1,2:3.7;\"\n",
        "sep=\"\"\n",
        "for i in n:\n",
        "  if i.isnumeric():\n",
        "    print(\"\")\n",
        "  else:\n",
        "     sep = sep+i\n",
        "     print(sep)\n"
      ],
      "metadata": {
        "id": "pGWT51I1rs2R"
      },
      "id": "pGWT51I1rs2R",
      "execution_count": null,
      "outputs": []
    },
    {
      "cell_type": "code",
      "execution_count": null,
      "id": "c130aa4d",
      "metadata": {
        "id": "c130aa4d"
      },
      "outputs": [],
      "source": [
        "number = \"9,223;832:023 854,775;925\"\n",
        "sep = \"\"\n",
        "\n",
        "for string in number:\n",
        "    if not string.isnumeric():\n",
        "        sep = sep + string\n",
        "\n",
        "print(sep)\n",
        "        "
      ]
    },
    {
      "cell_type": "code",
      "execution_count": null,
      "id": "dc9b6192",
      "metadata": {
        "id": "dc9b6192"
      },
      "outputs": [],
      "source": [
        "# Task\n",
        "Sentence= \"\"\"\n",
        "This is third Week of Python? I am doing Pretty Good.\n",
        "Today we are learning FOR loop which is a Definite loop.\n",
        "It help us to Repeat a Block Code Several Times. Is It?\n",
        "\"\"\"\n",
        "# Use a for loop and an if statement to print just the capitals in the quote above.\n"
      ]
    },
    {
      "cell_type": "code",
      "execution_count": null,
      "id": "b82fcdd2",
      "metadata": {
        "colab": {
          "base_uri": "https://localhost:8080/"
        },
        "id": "b82fcdd2",
        "outputId": "e43f47c3-5c62-4f2e-f880-c8c5af34befc"
      },
      "outputs": [
        {
          "output_type": "stream",
          "name": "stdout",
          "text": [
            "T W P I P G T F O R D I R B C S T I I "
          ]
        }
      ],
      "source": [
        "for i in Sentence:\n",
        "    if i.isupper():\n",
        "        print(i, end = \" \")"
      ]
    },
    {
      "cell_type": "code",
      "execution_count": null,
      "id": "c352fe07",
      "metadata": {
        "id": "c352fe07"
      },
      "outputs": [],
      "source": [
        "for i in Sentence:\n",
        "    if i in \"ABCDEFGHIJKLMNOPQRSTUVWXYZ\":\n",
        "        print(i, end = \" \")\n"
      ]
    },
    {
      "cell_type": "markdown",
      "id": "d6be3d5a",
      "metadata": {
        "id": "d6be3d5a"
      },
      "source": [
        "### Range function in for loop"
      ]
    },
    {
      "cell_type": "code",
      "execution_count": null,
      "id": "1b02a72d",
      "metadata": {
        "id": "1b02a72d"
      },
      "outputs": [],
      "source": [
        "for i in range(1, 20, 2):\n",
        "    print(i, end = \" \")\n"
      ]
    },
    {
      "cell_type": "code",
      "execution_count": null,
      "id": "f1cbb62f",
      "metadata": {
        "id": "f1cbb62f"
      },
      "outputs": [],
      "source": [
        "for i in range(1, 20, 3):\n",
        "     print(\"i is now {}\". format(i))\n"
      ]
    },
    {
      "cell_type": "code",
      "execution_count": null,
      "id": "26e9bd36",
      "metadata": {
        "id": "26e9bd36"
      },
      "outputs": [],
      "source": [
        "number = \"9,223,372,036,854,775,807\"\n",
        "for i in range(0, len(number)):\n",
        "    print(i, end = \" \")\n",
        "# I want to print these number then what should I do?"
      ]
    },
    {
      "cell_type": "code",
      "source": [
        "len(number)"
      ],
      "metadata": {
        "id": "GZN_HCsm0WJ8"
      },
      "id": "GZN_HCsm0WJ8",
      "execution_count": null,
      "outputs": []
    },
    {
      "cell_type": "code",
      "execution_count": null,
      "id": "ac2eb670",
      "metadata": {
        "id": "ac2eb670"
      },
      "outputs": [],
      "source": [
        "for i in range(0, len(number)):\n",
        "    print(number[i], end = \" \")\n"
      ]
    },
    {
      "cell_type": "code",
      "execution_count": null,
      "id": "41109dd7",
      "metadata": {
        "id": "41109dd7"
      },
      "outputs": [],
      "source": [
        "for i in range(0, len(number)):\n",
        "    if number[i] in \"0123456789\":\n",
        "        print(number[i], end = \" \")\n"
      ]
    },
    {
      "cell_type": "code",
      "source": [
        "print(newNumber)\n",
        "type(newNumber)"
      ],
      "metadata": {
        "id": "xuqzvcdHEcDE"
      },
      "id": "xuqzvcdHEcDE",
      "execution_count": null,
      "outputs": []
    },
    {
      "cell_type": "markdown",
      "source": [
        "## Task\n",
        "[9, 41, 12, 3, 74, 15]"
      ],
      "metadata": {
        "id": "8LOQcsHfEutq"
      },
      "id": "8LOQcsHfEutq"
    },
    {
      "cell_type": "code",
      "execution_count": null,
      "id": "1395946e",
      "metadata": {
        "id": "1395946e"
      },
      "outputs": [],
      "source": [
        "# Print largest number\n",
        "largest_so_for = -1\n",
        "print('Before', largest_so_for)\n",
        "for the_num in [9, 41, 12, 3, 74, 15]:\n",
        "    if the_num > largest_so_for:\n",
        "        largest_so_for = the_num\n",
        "    print(largest_so_for, the_num)"
      ]
    },
    {
      "cell_type": "code",
      "source": [
        "d =[9, 41, 12, 3, 74, 15]\n",
        "\n",
        "for i in d:\n",
        "  if i  > big :\n",
        "    big=i\n",
        "print(big )\n"
      ],
      "metadata": {
        "colab": {
          "base_uri": "https://localhost:8080/"
        },
        "id": "x6N3CqaI3ehT",
        "outputId": "9def2b19-fb86-43db-8356-388b0fa2d523"
      },
      "id": "x6N3CqaI3ehT",
      "execution_count": null,
      "outputs": [
        {
          "output_type": "stream",
          "name": "stdout",
          "text": [
            "74\n"
          ]
        }
      ]
    },
    {
      "cell_type": "markdown",
      "id": "cac939fe",
      "metadata": {
        "id": "cac939fe"
      },
      "source": [
        "## While loop\n",
        "- There will be time when we want to run a loop until a **condition** a become truefalse\n",
        "- Also known as indefinite loop as it runs till infinite time.\n",
        "- run continuously"
      ]
    },
    {
      "cell_type": "code",
      "source": [
        "sum = 0\n",
        "for i in range(10):\n",
        "  sum = sum + i\n",
        "print(sum)"
      ],
      "metadata": {
        "colab": {
          "base_uri": "https://localhost:8080/"
        },
        "id": "U_7m7WSwIOT7",
        "outputId": "1d83fa77-91f2-4704-99d6-b77596957d92"
      },
      "id": "U_7m7WSwIOT7",
      "execution_count": null,
      "outputs": [
        {
          "output_type": "stream",
          "name": "stdout",
          "text": [
            "45\n"
          ]
        }
      ]
    },
    {
      "cell_type": "code",
      "source": [
        "sum = 0\n",
        "i = 0\n",
        "while i < 10:\n",
        "  sum = sum + i\n",
        "  print(sum)\n",
        "  i = i + 1"
      ],
      "metadata": {
        "id": "FIcBda8pIoTR"
      },
      "id": "FIcBda8pIoTR",
      "execution_count": null,
      "outputs": []
    },
    {
      "cell_type": "code",
      "source": [
        ""
      ],
      "metadata": {
        "id": "0ytfAvfvIoUx"
      },
      "id": "0ytfAvfvIoUx",
      "execution_count": null,
      "outputs": []
    },
    {
      "cell_type": "code",
      "execution_count": null,
      "id": "c07bd605",
      "metadata": {
        "id": "c07bd605"
      },
      "outputs": [],
      "source": [
        "while W < 5:\n",
        "    print(W)"
      ]
    },
    {
      "cell_type": "markdown",
      "id": "cb8e70ff",
      "metadata": {
        "id": "cb8e70ff"
      },
      "source": [
        "### We must have to create variable before"
      ]
    },
    {
      "cell_type": "code",
      "source": [
        "W = 0\n",
        "while W < 5:\n",
        "    print(W)"
      ],
      "metadata": {
        "id": "BitsJ7XzDLoj"
      },
      "id": "BitsJ7XzDLoj",
      "execution_count": null,
      "outputs": []
    },
    {
      "cell_type": "code",
      "execution_count": null,
      "id": "f7b6304b",
      "metadata": {
        "id": "f7b6304b"
      },
      "outputs": [],
      "source": [
        "W = 0\n",
        "while W < 5:\n",
        "    print(W)\n",
        "    W = W + 1 #this step is called incrementing\n",
        "    "
      ]
    },
    {
      "cell_type": "code",
      "execution_count": null,
      "id": "317fe346",
      "metadata": {
        "id": "317fe346"
      },
      "outputs": [],
      "source": [
        "W = 0\n",
        "while W < 5:\n",
        "    print(W)\n",
        "    W += 1\n",
        "    "
      ]
    },
    {
      "cell_type": "code",
      "execution_count": null,
      "id": "15fcbd0b",
      "metadata": {
        "colab": {
          "base_uri": "https://localhost:8080/"
        },
        "id": "15fcbd0b",
        "outputId": "34e4d9e5-9b49-48a0-a0c6-bb5d8fbcbac3"
      },
      "outputs": [
        {
          "output_type": "stream",
          "name": "stdout",
          "text": [
            "Please chose a name: Sam\n",
            "Please chose a name: Murali\n",
            "Please chose a name: Manohar\n",
            "He is your employee\n"
          ]
        }
      ],
      "source": [
        "employees = [\"Manohar\", \"Rahul\", \"Narendra\", \"Sharad\", \"Mohit\", \"Sai\"]\n",
        "\n",
        "name = \" \"\n",
        "while name not in employees:\n",
        "    name = input(\"Please chose a name: \")\n",
        "print(\"He is your employee\")\n"
      ]
    },
    {
      "cell_type": "code",
      "execution_count": null,
      "id": "a50ff6b8",
      "metadata": {
        "colab": {
          "base_uri": "https://localhost:8080/"
        },
        "id": "a50ff6b8",
        "outputId": "7126c0b0-dbba-4f72-a3bb-9f70221d148a"
      },
      "outputs": [
        {
          "output_type": "stream",
          "name": "stdout",
          "text": [
            "Enter n: 100\n",
            "The sum is 5050\n"
          ]
        }
      ],
      "source": [
        "# Adding numbes\n",
        "\n",
        "# To take input from the user,\n",
        "# n = int(input(\"Enter n: \"))\n",
        "\n",
        "# initialize sum and counter\n",
        "sum = 0\n",
        "i = 1\n",
        "\n",
        "while i <= n:\n",
        "    sum = sum + i\n",
        "    i = i+1    # update counter\n",
        "\n",
        "# print the sum\n",
        "print(\"The sum is\", sum)"
      ]
    },
    {
      "cell_type": "code",
      "source": [
        "A= [9, 41, 12, 3, 74, 15]\n",
        "big=0\n",
        "for i in A:\n",
        "  if i > big:\n",
        "    big=i\n",
        "print(big)\n"
      ],
      "metadata": {
        "colab": {
          "base_uri": "https://localhost:8080/"
        },
        "id": "stzXt8E5BJtw",
        "outputId": "737fc93a-a7cd-4b57-b810-d47c72c66318"
      },
      "id": "stzXt8E5BJtw",
      "execution_count": null,
      "outputs": [
        {
          "output_type": "stream",
          "name": "stdout",
          "text": [
            "74\n"
          ]
        }
      ]
    },
    {
      "cell_type": "markdown",
      "id": "36939242",
      "metadata": {
        "id": "36939242"
      },
      "source": [
        "## Break, continue and pass"
      ]
    },
    {
      "cell_type": "markdown",
      "id": "013b7974",
      "metadata": {
        "id": "013b7974"
      },
      "source": [
        "### Break\n",
        "\n",
        "- break is used to stop any loop"
      ]
    },
    {
      "cell_type": "code",
      "execution_count": null,
      "id": "44c01e66",
      "metadata": {
        "colab": {
          "base_uri": "https://localhost:8080/"
        },
        "id": "44c01e66",
        "outputId": "aec9d904-3083-49c3-f06a-923332fccd94"
      },
      "outputs": [
        {
          "output_type": "stream",
          "name": "stdout",
          "text": [
            "New York Paris London Tokyo Mumbai Rio de Janerio Cape Town "
          ]
        }
      ],
      "source": [
        "cities = [\"New York\", \"Paris\", \"London\", \"Tokyo\", \"Mumbai\", \"Rio de Janerio\", \n",
        "            \"Cape Town\"]\n",
        "\n",
        "for city in cities:\n",
        "    print(city, end = \" \")\n"
      ]
    },
    {
      "cell_type": "code",
      "execution_count": null,
      "id": "f4c6ec75",
      "metadata": {
        "colab": {
          "base_uri": "https://localhost:8080/"
        },
        "id": "f4c6ec75",
        "outputId": "dc843294-bb3d-422e-c183-44d40eb666fc"
      },
      "outputs": [
        {
          "output_type": "stream",
          "name": "stdout",
          "text": [
            "New York\n",
            "Paris\n"
          ]
        }
      ],
      "source": [
        "cities = [\"New York\", \"Paris\", \"London\", \"Tokyo\", \"Mumbai\", \"Rio de Janerio\", \n",
        "            \"Cape Town\"]\n",
        "\n",
        "for city in cities:\n",
        "    if (len(city) == 6):\n",
        "        break\n",
        "    print(city)"
      ]
    },
    {
      "cell_type": "code",
      "execution_count": null,
      "id": "940e9c36",
      "metadata": {
        "colab": {
          "base_uri": "https://localhost:8080/"
        },
        "id": "940e9c36",
        "outputId": "a02e0a14-a757-4259-cb32-c12ae89acc8f"
      },
      "outputs": [
        {
          "output_type": "stream",
          "name": "stdout",
          "text": [
            "0 100 200 300 400 500 "
          ]
        }
      ],
      "source": [
        "n = 0\n",
        " \n",
        "while n <= 1000:\n",
        "    if n == 600: \n",
        "     break\n",
        "    print (n, end = \" \")\n",
        "    n = n + 100  "
      ]
    },
    {
      "cell_type": "markdown",
      "id": "b9a24464",
      "metadata": {
        "id": "b9a24464"
      },
      "source": [
        "### **Continue**\n",
        "\n",
        "- Continue will skip that step"
      ]
    },
    {
      "cell_type": "code",
      "execution_count": null,
      "id": "861cefc6",
      "metadata": {
        "colab": {
          "base_uri": "https://localhost:8080/"
        },
        "id": "861cefc6",
        "outputId": "d84c41ee-2e88-4c18-dfb0-1b4192e4d90d"
      },
      "outputs": [
        {
          "output_type": "stream",
          "name": "stdout",
          "text": [
            "New York\n",
            "Paris\n",
            "Tokyo\n",
            "Rio de Janerio\n",
            "Cape Town\n"
          ]
        }
      ],
      "source": [
        "cities = [\"New York\", \"Paris\", \"London\", \"Tokyo\", \"Mumbai\", \"Rio de Janerio\", \n",
        "            \"Cape Town\"]\n",
        "\n",
        "for city in cities:\n",
        "    if (len(city) == 6):\n",
        "        continue\n",
        "    print(city)"
      ]
    },
    {
      "cell_type": "code",
      "execution_count": null,
      "id": "52815842",
      "metadata": {
        "colab": {
          "base_uri": "https://localhost:8080/"
        },
        "id": "52815842",
        "outputId": "1169f8e0-d2cb-46f9-9a28-e611e5d99d5b"
      },
      "outputs": [
        {
          "output_type": "stream",
          "name": "stdout",
          "text": [
            "100 200 300 400 500 700 800 900 1000 1100 "
          ]
        }
      ],
      "source": [
        "n = 0\n",
        " \n",
        "while n <= 1000:\n",
        "    n = n + 100\n",
        "    if n == 600:\n",
        "        continue\n",
        "    print (n, end = \" \")\n",
        "      "
      ]
    },
    {
      "cell_type": "markdown",
      "id": "99d97d63",
      "metadata": {
        "id": "99d97d63"
      },
      "source": [
        "### **Pass**\n",
        "- It will just pass the step do nothing\n"
      ]
    },
    {
      "cell_type": "code",
      "execution_count": null,
      "id": "398df798",
      "metadata": {
        "colab": {
          "base_uri": "https://localhost:8080/"
        },
        "id": "398df798",
        "outputId": "a94971a2-10fc-4bad-e7f0-195b2806fc55"
      },
      "outputs": [
        {
          "output_type": "stream",
          "name": "stdout",
          "text": [
            "New York\n",
            "Paris\n",
            "PASS\n",
            "London\n",
            "Tokyo\n",
            "PASS\n",
            "Mumbai\n",
            "Rio de Janerio\n",
            "Cape Town\n"
          ]
        }
      ],
      "source": [
        "cities = [\"New York\", \"Paris\", \"London\", \"Tokyo\", \"Mumbai\", \"Rio de Janerio\", \n",
        "            \"Cape Town\"]\n",
        "\n",
        "for city in cities:\n",
        "    if (len(city) == 6):\n",
        "        print(\"PASS\")\n",
        "        pass\n",
        "    print(city)"
      ]
    },
    {
      "cell_type": "code",
      "source": [
        "a = 2\n",
        "b = 4\n",
        "if a+b ==6:\n",
        "  pass"
      ],
      "metadata": {
        "id": "i323ZcrVEtjJ"
      },
      "id": "i323ZcrVEtjJ",
      "execution_count": null,
      "outputs": []
    },
    {
      "cell_type": "markdown",
      "source": [
        "## Nested Loop"
      ],
      "metadata": {
        "id": "h45fdPYJGEaF"
      },
      "id": "h45fdPYJGEaF"
    },
    {
      "cell_type": "code",
      "source": [
        "for i in range(1, 3):\n",
        "  for j in range(4, 6):\n",
        "    print(\"i is:\", i, \"j is:\", j)"
      ],
      "metadata": {
        "id": "0ceMzMncOzIj"
      },
      "id": "0ceMzMncOzIj",
      "execution_count": null,
      "outputs": []
    },
    {
      "cell_type": "code",
      "source": [
        "name = [\"Sam\", \"Mohit\", \"Raghav\"]\n",
        "sub = [\"Python\", \"SQL\", \"Statistics\"]\n",
        "\n",
        "for x in name:\n",
        "  for y in sub:\n",
        "    print(x, y)\n"
      ],
      "metadata": {
        "id": "nkyY2j8rGLtc"
      },
      "id": "nkyY2j8rGLtc",
      "execution_count": null,
      "outputs": []
    },
    {
      "cell_type": "code",
      "source": [
        "for x in range(1, 26):\n",
        "  for y in range(1, 11):\n",
        "    print(\"{0} x {1} = {2}\".format(x, y, x * y))\n",
        "  print(\"-----------------------\")"
      ],
      "metadata": {
        "id": "Y7gcTD4xN-Ui"
      },
      "id": "Y7gcTD4xN-Ui",
      "execution_count": null,
      "outputs": []
    },
    {
      "cell_type": "markdown",
      "id": "bd8c70d5",
      "metadata": {
        "id": "bd8c70d5"
      },
      "source": [
        "## Convenience functions (zip, map, enumerate and filter)\n"
      ]
    },
    {
      "cell_type": "markdown",
      "id": "2632b163",
      "metadata": {
        "id": "2632b163"
      },
      "source": [
        "### zip(): linking elements from multiple iterators"
      ]
    },
    {
      "cell_type": "code",
      "source": [
        "DS_batch = [\"DS15\", \"DS16\", \"DS11\"]\n",
        "name = [\"Sai\", \"Mohit\", \"Raghav\"]\n",
        "\n",
        "# d = {}\n",
        "# for i, j in zip(name, DS_batch):\n",
        "#   d[i] = j\n",
        "    \n",
        "# d"
      ],
      "metadata": {
        "id": "N8ZJXa48Gn-E"
      },
      "id": "N8ZJXa48Gn-E",
      "execution_count": null,
      "outputs": []
    },
    {
      "cell_type": "code",
      "source": [
        "for key, value in d.items():\n",
        "  print(key, \" \", value)"
      ],
      "metadata": {
        "id": "gIe6NlRyTRg-"
      },
      "id": "gIe6NlRyTRg-",
      "execution_count": null,
      "outputs": []
    },
    {
      "cell_type": "markdown",
      "id": "a8798f20",
      "metadata": {
        "id": "a8798f20"
      },
      "source": [
        "### enumerate(): getting indices along with elements\n",
        "\n",
        "- The enumerate() method adds a counter to an iterable and returns it (the enumerate object)."
      ]
    },
    {
      "cell_type": "code",
      "execution_count": null,
      "id": "5cb69415",
      "metadata": {
        "colab": {
          "base_uri": "https://localhost:8080/"
        },
        "id": "5cb69415",
        "outputId": "73b8cadb-a874-4b17-df88-54c5dc019d3b"
      },
      "outputs": [
        {
          "output_type": "stream",
          "name": "stdout",
          "text": [
            "[(0, 'DS15'), (1, 'DS16'), (2, 'DS11')]\n"
          ]
        }
      ],
      "source": [
        "DS_batch = [\"DS15\", \"DS16\", \"DS11\"]\n",
        "enumerate_DS = enumerate(DS_batch)\n",
        "\n",
        "# convert enumerate object to list\n",
        "print(list(enumerate_DS))"
      ]
    },
    {
      "cell_type": "code",
      "execution_count": null,
      "id": "8c73c32d",
      "metadata": {
        "colab": {
          "base_uri": "https://localhost:8080/"
        },
        "id": "8c73c32d",
        "outputId": "8def51af-27d7-4d03-899f-ff3d20939215"
      },
      "outputs": [
        {
          "output_type": "stream",
          "name": "stdout",
          "text": [
            "0 DS15\n",
            "1 DS16\n",
            "2 DS11\n"
          ]
        }
      ],
      "source": [
        "DS_batch = [\"DS15\", \"DS16\", \"DS11\"]\n",
        "for i, DS_batch in enumerate(DS_batch):\n",
        "    print(i, DS_batch)"
      ]
    },
    {
      "cell_type": "markdown",
      "id": "faf8e3ba",
      "metadata": {
        "id": "faf8e3ba"
      },
      "source": [
        "### map(): applying a function to each element from an iterator\n"
      ]
    },
    {
      "cell_type": "code",
      "execution_count": null,
      "id": "8cd78e64",
      "metadata": {
        "colab": {
          "base_uri": "https://localhost:8080/"
        },
        "id": "8cd78e64",
        "outputId": "868ad233-d69c-45a4-db6e-e8a12d61e97a"
      },
      "outputs": [
        {
          "output_type": "stream",
          "name": "stdout",
          "text": [
            "2.0\n",
            "3.0\n",
            "5.0\n"
          ]
        }
      ],
      "source": [
        "from math import sqrt\n",
        "Numbers = [4, 9, 25]\n",
        "for i in map(sqrt, Numbers):\n",
        "    print(i)"
      ]
    },
    {
      "cell_type": "code",
      "source": [
        ""
      ],
      "metadata": {
        "id": "Vmj0-Y-CFxXO"
      },
      "id": "Vmj0-Y-CFxXO",
      "execution_count": null,
      "outputs": []
    }
  ],
  "metadata": {
    "kernelspec": {
      "display_name": "Python 3 (ipykernel)",
      "language": "python",
      "name": "python3"
    },
    "language_info": {
      "codemirror_mode": {
        "name": "ipython",
        "version": 3
      },
      "file_extension": ".py",
      "mimetype": "text/x-python",
      "name": "python",
      "nbconvert_exporter": "python",
      "pygments_lexer": "ipython3",
      "version": "3.9.7"
    },
    "colab": {
      "name": "Loops in python.ipynb",
      "provenance": [],
      "toc_visible": true
    }
  },
  "nbformat": 4,
  "nbformat_minor": 5
}